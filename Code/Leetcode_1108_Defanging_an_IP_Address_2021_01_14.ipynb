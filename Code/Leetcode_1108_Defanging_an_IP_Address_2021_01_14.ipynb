{
  "nbformat": 4,
  "nbformat_minor": 0,
  "metadata": {
    "colab": {
      "name": "Leetcode: 1108. Defanging an IP Address 2021/01/14.ipynb",
      "provenance": []
    },
    "kernelspec": {
      "name": "python3",
      "display_name": "Python 3"
    }
  },
  "cells": [
    {
      "cell_type": "code",
      "metadata": {
        "id": "iU9iUshIYRYS"
      },
      "source": [
        "#Attempt 1\r\n",
        "class Solution:\r\n",
        "    def defangIPaddr(self, address: str) -> str:\r\n",
        "        #Brute force\r\n",
        "        h = \"\"\r\n",
        "        for x in address:\r\n",
        "            if x != \".\":\r\n",
        "                h += x\r\n",
        "            else:\r\n",
        "                h += \"[.]\"\r\n",
        "        return h\r\n",
        "\r\n",
        "# Runtime: 32 ms, faster than 50.20% of Python3 online submissions for Defanging an IP Address.\r\n",
        "# Memory Usage: 14.3 MB, less than 32.79% of Python3 online submissions for Defanging an IP Address."
      ],
      "execution_count": null,
      "outputs": []
    },
    {
      "cell_type": "code",
      "metadata": {
        "id": "vHMIOqfcZqTC"
      },
      "source": [
        "#Attempt 2\r\n",
        "class Solution:\r\n",
        "    def defangIPaddr(self, address: str) -> str:\r\n",
        "        #Good ol Python has a replace function haha\r\n",
        "        return address.replace('.', '[.]')\r\n",
        "\r\n",
        "# Runtime: 28 ms, faster than 79.31% of Python3 online submissions for Defanging an IP Address.\r\n",
        "# Memory Usage: 14.2 MB, less than 63.11% of Python3 online submissions for Defanging an IP Address."
      ],
      "execution_count": null,
      "outputs": []
    }
  ]
}
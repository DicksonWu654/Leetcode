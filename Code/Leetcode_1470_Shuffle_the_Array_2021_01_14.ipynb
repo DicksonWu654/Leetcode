{
  "nbformat": 4,
  "nbformat_minor": 0,
  "metadata": {
    "colab": {
      "name": "Leetcode: 1470. Shuffle the Array 2021/01/14.ipynb",
      "provenance": []
    },
    "kernelspec": {
      "name": "python3",
      "display_name": "Python 3"
    }
  },
  "cells": [
    {
      "cell_type": "code",
      "metadata": {
        "id": "3X9ss3mDOhBn"
      },
      "source": [
        "#Attempt 1\r\n",
        "\r\n",
        "class Solution:\r\n",
        "    def shuffle(self, nums: List[int], n: int) -> List[int]:\r\n",
        "        #Basically splitting it down the middle, then just adding them one by one. Easy but somewhat inneffeicient\r\n",
        "        x = nums[:n]\r\n",
        "        y = nums[n:]\r\n",
        "        h = []\r\n",
        "        for u in range(len(x)):\r\n",
        "            h.append(x[u])\r\n",
        "            h.append(y[u])\r\n",
        "        return h\r\n",
        "\r\n",
        "# Runtime: 64 ms, faster than 30.82% of Python3 online submissions for Shuffle the Array.\r\n",
        "# Memory Usage: 14.5 MB, less than 49.98% of Python3 online submissions for Shuffle the Array."
      ],
      "execution_count": null,
      "outputs": []
    },
    {
      "cell_type": "code",
      "metadata": {
        "id": "8N3MOf01UHrZ"
      },
      "source": [
        "#Attempt 2\r\n",
        "\r\n",
        "class Solution:\r\n",
        "    def shuffle(self, nums: List[int], n: int) -> List[int]:\r\n",
        "      #This is a little algorithm which I just deduced from whiteboarded the process.... It uses little storage as possible because it manipulates the input list\r\n",
        "        for u in range(n):\r\n",
        "            h = nums[u+n]\r\n",
        "            nums.pop(u+n)\r\n",
        "            nums.insert(u+(u+1),h)\r\n",
        "        return nums\r\n",
        "\r\n",
        "# Runtime: 60 ms, faster than 66.05% of Python3 online submissions for Shuffle the Array.\r\n",
        "# Memory Usage: 14.3 MB, less than 77.32% of Python3 online submissions for Shuffle the Array."
      ],
      "execution_count": null,
      "outputs": []
    },
    {
      "cell_type": "code",
      "metadata": {
        "id": "p-i1ac78XJYx"
      },
      "source": [
        "#Ok now I check what others have done... Most of them do what I did for 1 but a tiny bit different. They don't split it right away, instead they just iterate from 0 to n, takeing x as _. Then y as _ + n\r\n",
        "#But I like my second solution XP"
      ],
      "execution_count": null,
      "outputs": []
    }
  ]
}
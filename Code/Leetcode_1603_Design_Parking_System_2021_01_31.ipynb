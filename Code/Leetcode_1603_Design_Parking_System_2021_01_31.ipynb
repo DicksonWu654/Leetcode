{
  "nbformat": 4,
  "nbformat_minor": 0,
  "metadata": {
    "colab": {
      "name": "Leetcode: 1603. Design Parking System 2021/01/31.ipynb",
      "provenance": []
    },
    "kernelspec": {
      "name": "python3",
      "display_name": "Python 3"
    }
  },
  "cells": [
    {
      "cell_type": "code",
      "metadata": {
        "id": "8KsoIpjcI90t"
      },
      "source": [
        "class ParkingSystem:\r\n",
        "    #My first thought was to just make a self.list and then access, and update, that list as we go \r\n",
        "    def __init__(self, big: int, medium: int, small: int):\r\n",
        "        self.list = [big, medium, small]\r\n",
        "\r\n",
        "    def addCar(self, carType: int) -> bool:\r\n",
        "        number = self.list[carType-1]\r\n",
        "        if number > 0:\r\n",
        "            self.list[carType - 1] = number - 1\r\n",
        "            return True\r\n",
        "        else:\r\n",
        "            return False\r\n",
        "\r\n",
        "\r\n",
        "# Runtime: 168 ms, faster than 12.15% of Python3 online submissions for Design Parking System.\r\n",
        "# Memory Usage: 14.7 MB, less than 83.37% of Python3 online submissions for Design Parking System."
      ],
      "execution_count": 5,
      "outputs": []
    },
    {
      "cell_type": "code",
      "metadata": {
        "id": "_yWmFGbqJacP"
      },
      "source": [
        "class ParkingSystem:\r\n",
        "    #damn that was slow, I think it might just be that accessing from a list isn't fast enogugh... I'll store it as a hash table... And if that doesn't work I'll store it as ints\r\n",
        "    def __init__(self, big: int, medium: int, small: int):\r\n",
        "        self.list = {\r\n",
        "            1:big,\r\n",
        "            2:medium,\r\n",
        "            3:small\r\n",
        "        }\r\n",
        "\r\n",
        "    def addCar(self, carType: int) -> bool:\r\n",
        "        number = self.list[carType]\r\n",
        "        if number > 0:\r\n",
        "            self.list[carType] = number - 1\r\n",
        "            return True\r\n",
        "        else:\r\n",
        "            return False\r\n",
        "\r\n",
        "# Runtime: 140 ms, faster than 52.79% of Python3 online submissions for Design Parking System.\r\n",
        "# Memory Usage: 14.7 MB, less than 83.37% of Python3 online submissions for Design Parking System."
      ],
      "execution_count": null,
      "outputs": []
    },
    {
      "cell_type": "code",
      "metadata": {
        "id": "a_RSJ-MuKZFo"
      },
      "source": [
        "class ParkingSystem:\r\n",
        "    #Also a bit slow... Let me try just a bunch of if else statements\r\n",
        "    def __init__(self, big: int, medium: int, small: int):\r\n",
        "        self.big = big\r\n",
        "        self.med = medium\r\n",
        "        self.sml = small\r\n",
        "\r\n",
        "    def addCar(self, carType: int) -> bool:\r\n",
        "        if carType == 1:\r\n",
        "            if self.big > 0:\r\n",
        "                self.big -= 1\r\n",
        "                return True\r\n",
        "            else:\r\n",
        "                return False\r\n",
        "        elif carType == 2:\r\n",
        "            if self.med > 0:\r\n",
        "                self.med -= 1\r\n",
        "                return True\r\n",
        "            else:\r\n",
        "                return False\r\n",
        "        else:\r\n",
        "            if self.sml > 0:\r\n",
        "                self.sml -= 1\r\n",
        "                return True\r\n",
        "            else:\r\n",
        "                return False\r\n",
        "\r\n",
        "# Runtime: 136 ms, faster than 76.25% of Python3 online submissions for Design Parking System.\r\n",
        "# Memory Usage: 14.9 MB, less than 26.93% of Python3 online submissions for Design Parking System."
      ],
      "execution_count": null,
      "outputs": []
    },
    {
      "cell_type": "code",
      "metadata": {
        "id": "_aZh77hPM71S"
      },
      "source": [
        "a = {\"0\":4,\"1\":6,\"2\":3}"
      ],
      "execution_count": 14,
      "outputs": []
    },
    {
      "cell_type": "code",
      "metadata": {
        "colab": {
          "base_uri": "https://localhost:8080/"
        },
        "id": "dPtmoZvkM-Jn",
        "outputId": "dcdeef73-f743-435d-c8fd-01128943981b"
      },
      "source": [
        "a"
      ],
      "execution_count": 15,
      "outputs": [
        {
          "output_type": "execute_result",
          "data": {
            "text/plain": [
              "{'0': 4, '1': 6, '2': 3}"
            ]
          },
          "metadata": {
            "tags": []
          },
          "execution_count": 15
        }
      ]
    },
    {
      "cell_type": "code",
      "metadata": {
        "colab": {
          "base_uri": "https://localhost:8080/",
          "height": 163
        },
        "id": "kbVH3Qv8M-sF",
        "outputId": "1945971f-44bb-462d-c7b1-b1db9590d861"
      },
      "source": [
        "a[0]"
      ],
      "execution_count": 16,
      "outputs": [
        {
          "output_type": "error",
          "ename": "KeyError",
          "evalue": "ignored",
          "traceback": [
            "\u001b[0;31m---------------------------------------------------------------------------\u001b[0m",
            "\u001b[0;31mKeyError\u001b[0m                                  Traceback (most recent call last)",
            "\u001b[0;32m<ipython-input-16-6a1284577a36>\u001b[0m in \u001b[0;36m<module>\u001b[0;34m()\u001b[0m\n\u001b[0;32m----> 1\u001b[0;31m \u001b[0ma\u001b[0m\u001b[0;34m[\u001b[0m\u001b[0;36m0\u001b[0m\u001b[0;34m]\u001b[0m\u001b[0;34m\u001b[0m\u001b[0;34m\u001b[0m\u001b[0m\n\u001b[0m",
            "\u001b[0;31mKeyError\u001b[0m: 0"
          ]
        }
      ]
    },
    {
      "cell_type": "code",
      "metadata": {
        "colab": {
          "base_uri": "https://localhost:8080/"
        },
        "id": "nOb6uzywNhUx",
        "outputId": "8c3022b8-0b81-49c5-f88e-5f3f2c336ccb"
      },
      "source": [
        "list(a)"
      ],
      "execution_count": 17,
      "outputs": [
        {
          "output_type": "execute_result",
          "data": {
            "text/plain": [
              "['0', '1', '2']"
            ]
          },
          "metadata": {
            "tags": []
          },
          "execution_count": 17
        }
      ]
    },
    {
      "cell_type": "code",
      "metadata": {
        "id": "LEUqnGzYNiYg"
      },
      "source": [
        ""
      ],
      "execution_count": null,
      "outputs": []
    }
  ]
}
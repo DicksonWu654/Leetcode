{
  "nbformat": 4,
  "nbformat_minor": 0,
  "metadata": {
    "colab": {
      "name": "Leetcode: 1672. Richest Customer Wealth.ipynb",
      "provenance": []
    },
    "kernelspec": {
      "name": "python3",
      "display_name": "Python 3"
    }
  },
  "cells": [
    {
      "cell_type": "code",
      "metadata": {
        "id": "d-weqqp9v-yq"
      },
      "source": [
        "#Attempt 1\r\n",
        "\r\n",
        "class Solution:\r\n",
        "    def maximumWealth(self, accounts: List[List[int]]) -> int:\r\n",
        "        #Brute force\r\n",
        "        #Basically we look at each account, sum it up, then compare it to the global max. If it's bigger we make that the new max. THen we just return it at the end\r\n",
        "        max = 0\r\n",
        "        for x in accounts:\r\n",
        "            h = sum(x)\r\n",
        "            if h > max:\r\n",
        "                max = h\r\n",
        "        return max\r\n",
        "\r\n",
        "#Runtime: 56 ms, faster than 49.55% of Python3 online submissions for Richest Customer Wealth.\r\n",
        "# Memory Usage: 14.2 MB, less than 61.00% of Python3 online submissions for Richest Customer Wealth."
      ],
      "execution_count": null,
      "outputs": []
    },
    {
      "cell_type": "code",
      "metadata": {
        "id": "DIgjoxkCym_r"
      },
      "source": [
        "# Attempt 2\r\n",
        "\r\n",
        "class Solution:\r\n",
        "    def maximumWealth(self, accounts: List[List[int]]) -> int:\r\n",
        "        #The new function! Map basically iterates (like a for loop) through something that can be iterable, then applies (or you could say maps) a function to each of the items in the iterable\r\n",
        "        return(max(map(sum, accounts)))\r\n",
        "\r\n",
        "# Runtime: 56 ms, faster than 49.55% of Python3 online submissions for Richest Customer Wealth.\r\n",
        "# Memory Usage: 14 MB, less than 95.61% of Python3 online submissions for Richest Customer Wealth."
      ],
      "execution_count": null,
      "outputs": []
    },
    {
      "cell_type": "code",
      "metadata": {
        "id": "C1m_Ueisysu8"
      },
      "source": [
        ""
      ],
      "execution_count": null,
      "outputs": []
    }
  ]
}
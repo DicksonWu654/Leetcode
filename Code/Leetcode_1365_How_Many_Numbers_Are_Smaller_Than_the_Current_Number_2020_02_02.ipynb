{
  "nbformat": 4,
  "nbformat_minor": 0,
  "metadata": {
    "colab": {
      "name": "Leetcode: 1365. How Many Numbers Are Smaller Than the Current Number 2020/02/02.ipynb",
      "provenance": []
    },
    "kernelspec": {
      "name": "python3",
      "display_name": "Python 3"
    }
  },
  "cells": [
    {
      "cell_type": "code",
      "metadata": {
        "id": "Fb2tSnkZelq4"
      },
      "source": [
        "class Solution:\r\n",
        "    def smallerNumbersThanCurrent(self, nums: List[int]) -> List[int]:\r\n",
        "        #The first instinct is to just run 2 for loops... But a more efficient way of doing it would be to create a little dictionary of how many of the things appear, and then whatever number you have you can just add up everything lower than that number.... Or you can automatically do it within the dictionary and just call the dictionary when iterating through nums.... I'll start with the 2 forloops to set a baseline\r\n",
        "        end = []\r\n",
        "        for x in nums:\r\n",
        "            numbers = 0\r\n",
        "            for y in nums:\r\n",
        "                if y < x:\r\n",
        "                    numbers += 1\r\n",
        "            end.append(numbers)\r\n",
        "        return end\r\n",
        "\r\n",
        "# Runtime: 232 ms, faster than 50.47% of Python3 online submissions for How Many Numbers Are Smaller Than the Current Number.\r\n",
        "# Memory Usage: 14.3 MB, less than 76.62% of Python3 online submissions for How Many Numbers Are Smaller Than the Current Number."
      ],
      "execution_count": null,
      "outputs": []
    },
    {
      "cell_type": "code",
      "metadata": {
        "id": "6N3c2Njaj4Qd"
      },
      "source": [
        "class Solution:\r\n",
        "    def smallerNumbersThanCurrent(self, nums: List[int]) -> List[int]:\r\n",
        "        #oh I have a big brain idea... make a list such that the index corresponds to the value. Then iterate through nums, adding a 1 to the number. Then afterwards we can pass thorugh nums again, but just sum up all the numbers before it\r\n",
        "        storage = [0] * (max(nums) + 1)\r\n",
        "        for x in nums:\r\n",
        "            storage[x] += 1\r\n",
        "        result = []\r\n",
        "        for x in nums:\r\n",
        "            result.append(sum(storage[:x]))\r\n",
        "        return result\r\n",
        "\r\n",
        "# Runtime: 92 ms, faster than 56.70% of Python3 online submissions for How Many Numbers Are Smaller Than the Current Number.\r\n",
        "# Memory Usage: 14.3 MB, less than 76.62% of Python3 online submissions for How Many Numbers Are Smaller Than the Current Number."
      ],
      "execution_count": null,
      "outputs": []
    },
    {
      "cell_type": "code",
      "metadata": {
        "id": "Xp0qb3d3j7i7"
      },
      "source": [
        "class Solution:\r\n",
        "    def smallerNumbersThanCurrent(self, nums: List[int]) -> List[int]:\r\n",
        "        #One unefficiency I see is that we've calculated the number of numbers smaller than, say 3. but it's useless to recalculate it, so I'll just have a pre-made list that you can pull from\r\n",
        "        length = max(nums) + 1\r\n",
        "        storage = [0] * (length)\r\n",
        "        for x in nums:\r\n",
        "            storage[x] += 1\r\n",
        "        hidden = []\r\n",
        "        for x in range(length):\r\n",
        "            if storage[x] == 0:\r\n",
        "                hidden.append(0)\r\n",
        "            else:\r\n",
        "                hidden.append(sum(storage[:x]))\r\n",
        "        result = []\r\n",
        "        for x in nums:\r\n",
        "            result.append(hidden[x])\r\n",
        "        return result\r\n",
        "\r\n",
        "# Runtime: 48 ms, faster than 96.43% of Python3 online submissions for How Many Numbers Are Smaller Than the Current Number.\r\n",
        "# Memory Usage: 14.3 MB, less than 49.43% of Python3 online submissions for How Many Numbers Are Smaller Than the Current Number."
      ],
      "execution_count": null,
      "outputs": []
    },
    {
      "cell_type": "code",
      "metadata": {
        "id": "CvQSAWgMl4kc"
      },
      "source": [
        "#I'm pretty proud of this solution! It's lightning fast, I came up with it all by my own, and it's pretty easy to understand! I checked the ones in the discussion and the best solutions seem to be a tiny bit more unefficient version of this (except less readable and less understandable)"
      ],
      "execution_count": null,
      "outputs": []
    }
  ]
}
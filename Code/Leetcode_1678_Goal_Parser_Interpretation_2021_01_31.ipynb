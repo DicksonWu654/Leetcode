{
  "nbformat": 4,
  "nbformat_minor": 0,
  "metadata": {
    "colab": {
      "name": "Leetcode: 1678. Goal Parser Interpretation 2021/01/31.ipynb",
      "provenance": []
    },
    "kernelspec": {
      "name": "python3",
      "display_name": "Python 3"
    }
  },
  "cells": [
    {
      "cell_type": "code",
      "metadata": {
        "id": "XFGJxJHYObfb"
      },
      "source": [
        "class Solution:\r\n",
        "    def interpret(self, command: str) -> str:\r\n",
        "        #What first comes to mind is to turn it into a list and then design an if else system to do it \r\n",
        "        command = list(command)\r\n",
        "        final = \"\"\r\n",
        "        while len(command) != 0:\r\n",
        "            try:\r\n",
        "                word = command[0] + command[1]\r\n",
        "                if word == \"()\" or word == \"(a\":\r\n",
        "                    if word == \"()\":\r\n",
        "                        final += 'o'\r\n",
        "                        command.pop(0)\r\n",
        "                        command.pop(0)\r\n",
        "                    else:\r\n",
        "                        final += \"al\"\r\n",
        "                        command.pop(0)\r\n",
        "                        command.pop(0)\r\n",
        "                        command.pop(0)\r\n",
        "                        command.pop(0)\r\n",
        "                else:\r\n",
        "                    final += \"G\"\r\n",
        "                    command.pop(0)\r\n",
        "            except:\r\n",
        "                final += \"G\"\r\n",
        "                command.pop(0)\r\n",
        "        return final\r\n",
        "\r\n",
        "# Runtime: 48 ms, faster than 8.71% of Python3 online submissions for Goal Parser Interpretation.\r\n",
        "# Memory Usage: 14.1 MB, less than 72.81% of Python3 online submissions for Goal Parser Interpretation."
      ],
      "execution_count": 1,
      "outputs": []
    },
    {
      "cell_type": "code",
      "metadata": {
        "id": "vCZd-iYDS_MV"
      },
      "source": [
        "class Solution:\r\n",
        "    def interpret(self, command: str) -> str:\r\n",
        "        #I can make it a bit more efficient and skip the try and except part. I'll start with testing the G thing, and then just skip straight to o or al\r\n",
        "        command = list(command)\r\n",
        "        final = \"\"\r\n",
        "        while len(command) != 0:\r\n",
        "            if command[0] ==\"G\":\r\n",
        "                final += \"G\"\r\n",
        "                command.pop(0)\r\n",
        "            elif command[0] + command[1] == \"()\":\r\n",
        "                final += \"o\"\r\n",
        "                command.pop(0)\r\n",
        "                command.pop(0)\r\n",
        "            else:\r\n",
        "                final += \"al\"\r\n",
        "                command.pop(0)\r\n",
        "                command.pop(0)\r\n",
        "                command.pop(0)\r\n",
        "                command.pop(0)\r\n",
        "        return final\r\n",
        "\r\n",
        "# Runtime: 32 ms, faster than 62.63% of Python3 online submissions for Goal Parser Interpretation.\r\n",
        "# Memory Usage: 14.2 MB, less than 72.81% of Python3 online submissions for Goal Parser Interpretation."
      ],
      "execution_count": null,
      "outputs": []
    },
    {
      "cell_type": "code",
      "metadata": {
        "id": "kcHW_jgHUmoL"
      },
      "source": [
        "class Solution:\r\n",
        "    def interpret(self, command: str) -> str:\r\n",
        "        #and of course python has a replace function\r\n",
        "        return command.replace(\"()\", \"o\").replace('(al)', \"al\")\r\n",
        "\r\n",
        "# Runtime: 28 ms, faster than 85.25% of Python3 online submissions for Goal Parser Interpretation.\r\n",
        "# Memory Usage: 14.3 MB, less than 9.21% of Python3 online submissions for Goal Parser Interpretation."
      ],
      "execution_count": null,
      "outputs": []
    }
  ]
}
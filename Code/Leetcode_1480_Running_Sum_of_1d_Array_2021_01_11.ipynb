{
  "nbformat": 4,
  "nbformat_minor": 0,
  "metadata": {
    "colab": {
      "name": "Leetcode: 1480. Running Sum of 1d Array.ipynb",
      "provenance": []
    },
    "kernelspec": {
      "name": "python3",
      "display_name": "Python 3"
    }
  },
  "cells": [
    {
      "cell_type": "code",
      "metadata": {
        "id": "N9f7TSApqYyG"
      },
      "source": [
        "#Attempt 1\r\n",
        "class Solution:\r\n",
        "    def runningSum(self, nums: List[int]) -> List[int]:\r\n",
        "        #Brute force\r\n",
        "        #Creates a list, then sums up the numbers starting from the start all the way to the current number\r\n",
        "        lis = []\r\n",
        "        for x in range(len(nums)):\r\n",
        "            lis.append(sum(nums[0:(x+1)]))\r\n",
        "        \r\n",
        "        return lis\r\n",
        "\r\n",
        "#Runtime: 52 ms, faster than 18.01% of Python3 online submissions for Running Sum of 1d Array.\r\n",
        "#Memory Usage: 14.5 MB, less than 41.39% of Python3 online submissions for Running Sum of 1d Array.\r\n"
      ],
      "execution_count": null,
      "outputs": []
    },
    {
      "cell_type": "code",
      "metadata": {
        "id": "IAO1YhB3qx9M"
      },
      "source": [
        "#Attempt 2\r\n",
        "class Solution:\r\n",
        "    def runningSum(self, nums: List[int]) -> List[int]:\r\n",
        "        #Brute force\r\n",
        "        #Same thing except it's a list compression\r\n",
        "        return [sum(nums[0:(x+1)]) for x in range(len(nums))]\r\n",
        "\r\n",
        "# Runtime: 44 ms, faster than 26.38% of Python3 online submissions for Running Sum of 1d Array.\r\n",
        "# Memory Usage: 14.3 MB, less than 89.34% of Python3 online submissions for Running Sum of 1d Array."
      ],
      "execution_count": null,
      "outputs": []
    },
    {
      "cell_type": "code",
      "metadata": {
        "id": "4ZgP8q73rNyp"
      },
      "source": [
        "#Attempt 3\r\n",
        "\r\n",
        "class Solution:\r\n",
        "    def runningSum(self, nums: List[int]) -> List[int]:\r\n",
        "      #Not as Brute forcy... I figured that I'm recalculating all the numbers from 0 to n every single time... But I can just add on to the previous sum.... Oh I should just access the list instead of constantly storing it\r\n",
        "        lis = []\r\n",
        "        prev = 0\r\n",
        "        for x in range(len(nums)):\r\n",
        "            prev += nums[x]\r\n",
        "            lis.append(prev)\r\n",
        "        return lis\r\n",
        "\r\n",
        "# Runtime: 40 ms, faster than 65.01% of Python3 online submissions for Running Sum of 1d Array.\r\n",
        "# Memory Usage: 14.5 MB, less than 41.39% of Python3 online submissions for Running Sum of 1d Array."
      ],
      "execution_count": null,
      "outputs": []
    },
    {
      "cell_type": "code",
      "metadata": {
        "id": "bpwRajjYsXvK"
      },
      "source": [
        "#Attempt 4\r\n",
        "\r\n",
        "class Solution:\r\n",
        "    def runningSum(self, nums: List[int]) -> List[int]:\r\n",
        "        #implementing the idea from last time\r\n",
        "        lis = [nums[0]]\r\n",
        "        for x in range(1,len(nums)):\r\n",
        "            lis.append(lis[x-1] + nums[x])\r\n",
        "        return lis\r\n",
        "\r\n",
        "# Runtime: 32 ms, faster than 96.13% of Python3 online submissions for Running Sum of 1d Array.\r\n",
        "# Memory Usage: 14.6 MB, less than 12.67% of Python3 online submissions for Running Sum of 1d Array."
      ],
      "execution_count": null,
      "outputs": []
    },
    {
      "cell_type": "code",
      "metadata": {
        "id": "f_IOdb3dsveg"
      },
      "source": [
        "#Attempt 5\r\n",
        "\r\n",
        "class Solution:\r\n",
        "    def runningSum(self, nums: List[int]) -> List[int]:\r\n",
        "        #Good old python has a built in function :D\r\n",
        "        return accumulate(nums)"
      ],
      "execution_count": null,
      "outputs": []
    }
  ]
}
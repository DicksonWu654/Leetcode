{
  "nbformat": 4,
  "nbformat_minor": 0,
  "metadata": {
    "colab": {
      "name": "Leetcode: 771. Jewels and Stones 2021/01/31.ipynb",
      "provenance": []
    },
    "kernelspec": {
      "name": "python3",
      "display_name": "Python 3"
    }
  },
  "cells": [
    {
      "cell_type": "code",
      "metadata": {
        "id": "GsZVX7y4FZ1z"
      },
      "source": [
        "class Solution:\r\n",
        "    def numJewelsInStones(self, jewels: str, stones: str) -> int:\r\n",
        "        #Brute force is just turning jewels into a list and then iterating through the stones to check how many times it appears inside the list\r\n",
        "        jewels = list(jewels)\r\n",
        "        counter = 0\r\n",
        "        for x in stones:\r\n",
        "            if x in jewels:\r\n",
        "                counter += 1\r\n",
        "        return counter\r\n",
        "\r\n",
        "# Runtime: 32 ms, faster than 62.37% of Python3 online submissions for Jewels and Stones.\r\n",
        "# Memory Usage: 14.4 MB, less than 13.84% of Python3 online submissions for Jewels and Stones."
      ],
      "execution_count": 1,
      "outputs": []
    },
    {
      "cell_type": "code",
      "metadata": {
        "id": "JLosyA5HGKuw"
      },
      "source": [
        "# Haha I don't think there any other solutions. I checked the discusion and they're basically the same as me"
      ],
      "execution_count": null,
      "outputs": []
    }
  ]
}
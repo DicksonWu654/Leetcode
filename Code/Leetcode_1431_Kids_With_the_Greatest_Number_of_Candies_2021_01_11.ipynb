{
  "nbformat": 4,
  "nbformat_minor": 0,
  "metadata": {
    "colab": {
      "name": "1431. Kids With the Greatest Number of Candies 2021/01/11.ipynb",
      "provenance": []
    },
    "kernelspec": {
      "name": "python3",
      "display_name": "Python 3"
    }
  },
  "cells": [
    {
      "cell_type": "code",
      "metadata": {
        "id": "qnLygekb14Sk"
      },
      "source": [
        "#Attempt 1\r\n",
        "class Solution:\r\n",
        "    def kidsWithCandies(self, candies: List[int], extraCandies: int) -> List[bool]:\r\n",
        "        #List compression. Loop through the candies, then check if you add the all the extra candies if it will become the max\r\n",
        "        maxx = max(candies)\r\n",
        "        return [True if (x + extraCandies) >= maxx else False for x in candies]\r\n",
        "\r\n",
        "# Runtime: 40 ms, faster than 52.47% of Python3 online submissions for Kids With the Greatest Number of Candies.\r\n",
        "# Memory Usage: 14.4 MB, less than 20.98% of Python3 online submissions for Kids With the Greatest Number of Candies."
      ],
      "execution_count": null,
      "outputs": []
    },
    {
      "cell_type": "code",
      "metadata": {
        "id": "3YNEdrWI3C_O"
      },
      "source": [
        "#Attempt 2\r\n",
        "\r\n",
        "class Solution:\r\n",
        "    def kidsWithCandies(self, candies: List[int], extraCandies: int) -> List[bool]:\r\n",
        "        #Turns out the if statement was useles... I can just do a direct comparison right away. Also instead of adding extra candles at the beginning just subtract it right from the getgo\r\n",
        "        maxx = max(candies) - extraCandies\r\n",
        "        return [x >= maxx for x in candies]\r\n",
        "\r\n",
        "# Runtime: 32 ms, faster than 93.58% of Python3 online submissions for Kids With the Greatest Number of Candies.\r\n",
        "# Memory Usage: 14 MB, less than 99.05% of Python3 online submissions for Kids With the Greatest Number of Candies."
      ],
      "execution_count": null,
      "outputs": []
    }
  ]
}
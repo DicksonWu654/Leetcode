{
  "nbformat": 4,
  "nbformat_minor": 0,
  "metadata": {
    "colab": {
      "name": "Leetcode: 1512. Number of Good Pairs 2021/01/14.ipynb",
      "provenance": []
    },
    "kernelspec": {
      "name": "python3",
      "display_name": "Python 3"
    }
  },
  "cells": [
    {
      "cell_type": "code",
      "metadata": {
        "id": "uZ_osx2-akSX"
      },
      "source": [
        "#Attempt 1\r\n",
        "\r\n",
        "class Solution:\r\n",
        "    def numIdenticalPairs(self, nums: List[int]) -> int:\r\n",
        "        #Brute force... O(n^2)\r\n",
        "        t = 0\r\n",
        "        for x in range(len(nums)):\r\n",
        "            for y in range(x):\r\n",
        "                # print(y,x)\r\n",
        "                if nums[y] == nums[x]:\r\n",
        "                    t += 1\r\n",
        "        return t\r\n",
        "\r\n",
        "# Runtime: 32 ms, faster than 75.13% of Python3 online submissions for Number of Good Pairs.\r\n",
        "# Memory Usage: 14.2 MB, less than 71.20% of Python3 online submissions for Number of Good Pairs."
      ],
      "execution_count": null,
      "outputs": []
    },
    {
      "cell_type": "code",
      "metadata": {
        "id": "Fa4gUVN8c1DO"
      },
      "source": [
        "#Attept 2\r\n",
        "\r\n",
        "class Solution:\r\n",
        "    def numIdenticalPairs(self, nums: List[int]) -> int:\r\n",
        "        #Saw this wonderful solution of using a hash table... Brilliant! Going to try and re-create it from memory\r\n",
        "        hash = {}\r\n",
        "        total = 0\r\n",
        "        \r\n",
        "        #So we'll iterate through each number\r\n",
        "        for x in nums:\r\n",
        "            #Check if the number has appeared before\r\n",
        "            if x in hash:\r\n",
        "                #IF the number has already appeared before, that means that it's a matching pair. Now, if the number has already appeared y times before, we'll just add y to the total. Since that's how many pairs we have\r\n",
        "                total += hash[x]\r\n",
        "                #We'll log it on \r\n",
        "                hash[x] += 1\r\n",
        "            else:\r\n",
        "                #Since it didnt' appear before we'll register it so future numbers can find it\r\n",
        "                hash[x] = 1\r\n",
        "        return total\r\n",
        "\r\n",
        "# Runtime: 36 ms, faster than 43.56% of Python3 online submissions for Number of Good Pairs.\r\n",
        "# Memory Usage: 13.8 MB, less than 99.91% of Python3 online submissions for Number of Good Pairs."
      ],
      "execution_count": null,
      "outputs": []
    }
  ]
}
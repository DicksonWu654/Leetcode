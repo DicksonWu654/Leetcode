{
  "nbformat": 4,
  "nbformat_minor": 0,
  "metadata": {
    "colab": {
      "name": "Leetcode: 1720. Decode XORed Array 2021/02/02.ipynb",
      "provenance": []
    },
    "kernelspec": {
      "name": "python3",
      "display_name": "Python 3"
    }
  },
  "cells": [
    {
      "cell_type": "code",
      "metadata": {
        "id": "Y4ipD139YO6M"
      },
      "source": [
        "class Solution:\r\n",
        "    def decode(self, encoded: List[int], first: int) -> List[int]:\r\n",
        "        #So basiclly XOR means that you take the number, break it apart into it's bitwise representation and then do the XOR logic gate on them.... Thankfully Python already has a function for XOR (^). First I'll try and brute force it\r\n",
        "        arr = [first]\r\n",
        "        for num in range(len(encoded)):\r\n",
        "            arr.append(encoded[num] ^ arr[num])\r\n",
        "        return arr\r\n",
        "\r\n",
        "# Runtime: 356 ms, faster than 14.08% of Python3 online submissions for Decode XORed Array.\r\n",
        "# Memory Usage: 15.9 MB, less than 19.75% of Python3 online submissions for Decode XORed Array."
      ],
      "execution_count": null,
      "outputs": []
    },
    {
      "cell_type": "code",
      "metadata": {
        "id": "Gd4ncbT2btYQ"
      },
      "source": [
        "class Solution:\r\n",
        "    def decode(self, encoded: List[int], first: int) -> List[int]:\r\n",
        "        #alright so that was super slow... Maybe because I keep looking up the arr?\r\n",
        "        arr = [first]\r\n",
        "        last = first\r\n",
        "        for num in range(len(encoded)):\r\n",
        "            last = encoded[num] ^ last\r\n",
        "            arr.append(last)\r\n",
        "        return arr\r\n",
        "\r\n",
        "# Runtime: 232 ms, faster than 60.12% of Python3 online submissions for Decode XORed Array.\r\n",
        "# Memory Usage: 15.9 MB, less than 65.71% of Python3 online submissions for Decode XORed Array."
      ],
      "execution_count": null,
      "outputs": []
    },
    {
      "cell_type": "code",
      "metadata": {
        "id": "5ru0fXX3bwvu"
      },
      "source": [
        "class Solution:\r\n",
        "    def decode(self, encoded: List[int], first: int) -> List[int]:\r\n",
        "        #I want to go faster... Looking on the discusion there's a tiny bit more efficient way of doing mine... Instead of hulling around the last of the arr, you can call the last one of the arr by diong [-1] \r\n",
        "        arr = [first]\r\n",
        "        for num in encoded:\r\n",
        "            arr.append(num ^ arr[-1])\r\n",
        "        return arr\r\n",
        "\r\n",
        "# Runtime: 228 ms, faster than 72.69% of Python3 online submissions for Decode XORed Array.\r\n",
        "# Memory Usage: 15.8 MB, less than 65.71% of Python3 online submissions for Decode XORed Array."
      ],
      "execution_count": null,
      "outputs": []
    }
  ]
}